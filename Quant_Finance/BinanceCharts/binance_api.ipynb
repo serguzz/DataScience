{
 "cells": [
  {
   "cell_type": "code",
   "execution_count": 1,
   "id": "82fa3667",
   "metadata": {},
   "outputs": [],
   "source": [
    "# !pip install python-binance"
   ]
  },
  {
   "cell_type": "code",
   "execution_count": 34,
   "id": "877f0898",
   "metadata": {},
   "outputs": [
    {
     "data": {
      "text/plain": [
       "{'symbol': 'BTCUSDT', 'leverage': 1, 'maxNotionalValue': '500000000'}"
      ]
     },
     "execution_count": 34,
     "metadata": {},
     "output_type": "execute_result"
    }
   ],
   "source": [
    "import pandas as pd\n",
    "from binance.client import Client\n",
    "#from binance.enums import *\n",
    "\n",
    "# api_key = 'YOUR_API_KEY' \n",
    "# api_secret = 'YOUR_SECRET_KEY' \n",
    "\n",
    "# replace YOUR_API_KEY and YOUR_SECRET_KEY with your Binance API credentials\n",
    "binance_client = Client(api_key=api_key, api_secret=api_secret)\n",
    "#futures_client = client.futures\n",
    "\n",
    "# retrieve the ticker price for BTCUSDT perpetual contract\n",
    "# client.futures_symbol_ticker(symbol='BTCUSDT')\n",
    "\n",
    "df = pd.DataFrame(binance_client.futures_historical_klines(\n",
    "    symbol='BTCUSDT',\n",
    "    interval='1d',  # can play with this e.g. '1h', '4h', '1w', etc.\n",
    "    start_str='2023-04-01',\n",
    "    end_str='2023-04-08'\n",
    "))\n",
    "\n",
    "# crop unnecessary columns\n",
    "df = df.iloc[:, :6]\n",
    "# ascribe names to columns\n",
    "df.columns = ['date', 'open', 'high', 'low', 'close', 'volume']\n",
    "# convert timestamp to date format and ensure ohlcv are all numeric\n",
    "df['date'] = pd.to_datetime(df['date'], unit='ms')\n",
    "for col in df.columns[1:]:\n",
    "    df[col] = pd.to_numeric(df[col])\n",
    "\n",
    "\n",
    "\n",
    "\n",
    "'''# into a pandas DataFrame for neater output \n",
    "df = pd.DataFrame(\n",
    "    binance_client.futures_order_book(symbol='BTCUSDT')\n",
    ")\n",
    "print(df[['bids', 'asks']].head())'''\n",
    "\n",
    "# binance_client.futures_change_leverage(symbol='BTCUSDT', leverage=1)\n",
    "# df\n",
    "\n",
    "\n",
    "'''order = binance_client.create_test_order(\n",
    "    symbol='BTCUSDT',\n",
    "    type=ORDER_TYPE_LIMIT,\n",
    "    side='BUY',\n",
    "    timeInForce=TIME_IN_FORCE_GTC,\n",
    "    quantity=0.001,\n",
    "    price = '25000'\n",
    ")\n",
    "\n",
    "order'''\n",
    "\n",
    "binance_client.futures_change_leverage(symbol='BTCUSDT', leverage=1)\n",
    "\n",
    "\n"
   ]
  },
  {
   "cell_type": "code",
   "execution_count": 37,
   "id": "850a241e",
   "metadata": {},
   "outputs": [
    {
     "data": {
      "text/plain": [
       "{'orderId': 11737642,\n",
       " 'symbol': 'AMBUSDT',\n",
       " 'status': 'NEW',\n",
       " 'clientOrderId': 'kDagb1OttzE37wifisAImY',\n",
       " 'price': '0.0190000',\n",
       " 'avgPrice': '0.0000000',\n",
       " 'origQty': '1000',\n",
       " 'executedQty': '0',\n",
       " 'cumQty': '0',\n",
       " 'cumQuote': '0',\n",
       " 'timeInForce': 'GTC',\n",
       " 'type': 'LIMIT',\n",
       " 'reduceOnly': False,\n",
       " 'closePosition': False,\n",
       " 'side': 'SELL',\n",
       " 'positionSide': 'BOTH',\n",
       " 'stopPrice': '0',\n",
       " 'workingType': 'CONTRACT_PRICE',\n",
       " 'priceProtect': False,\n",
       " 'origType': 'LIMIT',\n",
       " 'updateTime': 1681063811726}"
      ]
     },
     "execution_count": 37,
     "metadata": {},
     "output_type": "execute_result"
    }
   ],
   "source": [
    "binance_client.futures_create_order(\n",
    "    symbol='AMBUSDT',\n",
    "    type='LIMIT',\n",
    "    timeInForce='GTC',  # Can be changed - see link to API doc below\n",
    "    price=0.019,  # The price at which you wish to buy/sell, float\n",
    "    side='SELL',  # Direction ('BUY' / 'SELL'), string\n",
    "    quantity=1000  # Number of coins you wish to buy / sell, float\n",
    ")"
   ]
  },
  {
   "cell_type": "code",
   "execution_count": 41,
   "id": "7c3b20a4",
   "metadata": {},
   "outputs": [],
   "source": [
    "# cancel an open order\n",
    "result = binance_client.futures_cancel_order(\n",
    "    symbol='AMBUSDT',\n",
    "    orderId=11737642  # replace with your order ID\n",
    ")"
   ]
  },
  {
   "cell_type": "code",
   "execution_count": 42,
   "id": "87a7fcc6",
   "metadata": {},
   "outputs": [
    {
     "data": {
      "text/plain": [
       "[]"
      ]
     },
     "execution_count": 42,
     "metadata": {},
     "output_type": "execute_result"
    }
   ],
   "source": [
    "binance_client.futures_get_open_orders(symbol='AMBUSDT')"
   ]
  },
  {
   "cell_type": "code",
   "execution_count": null,
   "id": "88e137a2",
   "metadata": {},
   "outputs": [],
   "source": []
  }
 ],
 "metadata": {
  "kernelspec": {
   "display_name": "Python 3 (ipykernel)",
   "language": "python",
   "name": "python3"
  },
  "language_info": {
   "codemirror_mode": {
    "name": "ipython",
    "version": 3
   },
   "file_extension": ".py",
   "mimetype": "text/x-python",
   "name": "python",
   "nbconvert_exporter": "python",
   "pygments_lexer": "ipython3",
   "version": "3.10.4"
  }
 },
 "nbformat": 4,
 "nbformat_minor": 5
}
