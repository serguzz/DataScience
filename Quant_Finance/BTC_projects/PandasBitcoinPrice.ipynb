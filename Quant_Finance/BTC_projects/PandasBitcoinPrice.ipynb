{
 "cells": [
  {
   "cell_type": "code",
   "execution_count": null,
   "id": "cbb01adc",
   "metadata": {},
   "outputs": [],
   "source": [
    "import pandas as pd\n",
    "dataFrame = pd.read_csv(\"BTC-USD.csv\")\n",
    "priceAndVolume = dataFrame[[\"High\", \"Volume\"]]\n",
    "priceAndVolume"
   ]
  },
  {
   "cell_type": "code",
   "execution_count": null,
   "id": "e1181b12",
   "metadata": {
    "scrolled": false
   },
   "outputs": [],
   "source": [
    "#from pandas_ods_reader import read_ods\n",
    "dataFrame = pd.read_csv(\"BTC-USD.csv\")\n",
    "#dataFile.describe() dataFile.head()\n",
    "openPrice = dataFrame[\"Open\"]\n",
    "#openPrice.plot()  - draw the chart\n",
    "#len(openPrice)\n",
    "highPrice = dataFrame[\"High\"]\n",
    "volumeData = dataFrame[\"Volume\"]\n",
    "priceData = openPrice\n",
    "#price_and_vol = dataFrame[[\"High\",\"Volume\"]]\n",
    "#priceData = volume\n",
    "#priceData = priceAndVolume\n",
    "priceData"
   ]
  },
  {
   "cell_type": "code",
   "execution_count": null,
   "id": "6ede74b7",
   "metadata": {},
   "outputs": [],
   "source": [
    "past = 28\n",
    "future = 7"
   ]
  },
  {
   "cell_type": "code",
   "execution_count": null,
   "id": "96620408",
   "metadata": {
    "scrolled": false
   },
   "outputs": [],
   "source": [
    "start = past\n",
    "end = len(priceData) - future\n",
    "raw_df = []\n",
    "for i in range(start, end):\n",
    "    past_and_future_prices = priceData[(i-past):(i+future)]\n",
    "#    past_and_future_volumes = volumeData[(i-past):(i+future)]\n",
    "    raw_df.append(list(past_and_future_prices))\n",
    "#    raw_df.append(list(past_and_future_volumes))\n",
    "    \n",
    "#raw_df"
   ]
  },
  {
   "cell_type": "code",
   "execution_count": null,
   "id": "bb9b1217",
   "metadata": {},
   "outputs": [],
   "source": [
    "past_columns = []\n",
    "for i in range(past):\n",
    "    past_columns.append(\"past_{}\".format(i))\n",
    "future_columns = []\n",
    "for i in range(future):\n",
    "    future_columns.append(\"future_{}\".format(i))\n"
   ]
  },
  {
   "cell_type": "code",
   "execution_count": null,
   "id": "c4688ea6",
   "metadata": {},
   "outputs": [],
   "source": [
    "df = pd.DataFrame(raw_df, columns = (past_columns + future_columns))\n",
    "df"
   ]
  },
  {
   "cell_type": "code",
   "execution_count": null,
   "id": "1bc73903",
   "metadata": {},
   "outputs": [],
   "source": [
    "# training data\n",
    "X = df[past_columns][:-20]\n",
    "Y = df[future_columns][:-20]\n",
    "\n",
    "# testing data\n",
    "X_test = df[past_columns][-20:]\n",
    "Y_test = df[future_columns][-20:]"
   ]
  },
  {
   "cell_type": "code",
   "execution_count": null,
   "id": "8d208db4",
   "metadata": {
    "scrolled": true
   },
   "outputs": [],
   "source": [
    "from sklearn.linear_model import LinearRegression\n",
    "LinReg = LinearRegression()\n",
    "LinReg.fit(X,Y)"
   ]
  },
  {
   "cell_type": "code",
   "execution_count": null,
   "id": "5ff4fe70",
   "metadata": {},
   "outputs": [],
   "source": [
    "prediction = LinReg.predict(X_test)\n",
    "len(prediction)\n",
    "# prediction[-1] == prediction[19]\n",
    "prediction[19]"
   ]
  },
  {
   "cell_type": "code",
   "execution_count": null,
   "id": "03627860",
   "metadata": {},
   "outputs": [],
   "source": [
    "Y_test[10:].iloc[0] == Y_test.iloc[10]"
   ]
  },
  {
   "cell_type": "code",
   "execution_count": null,
   "id": "8e962c1b",
   "metadata": {},
   "outputs": [],
   "source": [
    "import matplotlib.pyplot as plt\n",
    "\n",
    "test_index = 10\n",
    "def plotChart(prediction, test_index):\n",
    "    plt.plot(prediction[test_index], label = \"prediction\")\n",
    "    plt.plot(Y_test.iloc[test_index], label = \"real\")\n",
    "    plt.legend()\n",
    "\n",
    "plotChart(prediction, test_index)"
   ]
  },
  {
   "cell_type": "code",
   "execution_count": null,
   "id": "b048fa81",
   "metadata": {},
   "outputs": [],
   "source": [
    "pip install yfinance\n"
   ]
  },
  {
   "cell_type": "code",
   "execution_count": null,
   "id": "26a90439",
   "metadata": {},
   "outputs": [],
   "source": [
    "from sklearn.metrics import mean_absolute_error\n",
    "\n",
    "def printErrors(prediction):\n",
    "    errors_list = []\n",
    "    for test_index in range(20):\n",
    "        error = mean_absolute_error(Y_test.iloc[test_index], prediction[test_index])\n",
    "        errors_list.append(error)\n",
    "    #errors_list\n",
    "    avg_error = sum(errors_list)/len(errors_list)\n",
    "    max_error = max(errors_list)\n",
    "    print(\"Avg error: {}\".format(avg_error))\n",
    "    print(\"Max error: {}\".format(max_error))\n",
    "\n",
    "printErrors(prediction)"
   ]
  },
  {
   "cell_type": "code",
   "execution_count": null,
   "id": "62b090d5",
   "metadata": {},
   "outputs": [],
   "source": [
    "from sklearn.neural_network import MLPRegressor\n",
    "MLP = MLPRegressor(max_iter = 1000)\n",
    "MLP.fit(X, Y)\n",
    "predictionMLP = MLP.predict(X_test)"
   ]
  },
  {
   "cell_type": "code",
   "execution_count": null,
   "id": "188d99c6",
   "metadata": {},
   "outputs": [],
   "source": [
    "plotChart(predictionMLP, 18)"
   ]
  },
  {
   "cell_type": "code",
   "execution_count": null,
   "id": "143fb599",
   "metadata": {},
   "outputs": [],
   "source": [
    "printErrors(predictionMLP)"
   ]
  },
  {
   "cell_type": "code",
   "execution_count": null,
   "id": "bb8f568e",
   "metadata": {},
   "outputs": [],
   "source": [
    "from sklearn.neighbors import KNeighborsRegressor\n",
    "KNN = KNeighborsRegressor(n_neighbors = 10)\n",
    "KNN.fit(X,Y)"
   ]
  },
  {
   "cell_type": "code",
   "execution_count": null,
   "id": "93e95b5f",
   "metadata": {},
   "outputs": [],
   "source": [
    "predictionKNN = KNN.predict(X_test)\n",
    "plotChart(predictionKNN, 9)"
   ]
  },
  {
   "cell_type": "code",
   "execution_count": null,
   "id": "ca2ae5df",
   "metadata": {},
   "outputs": [],
   "source": [
    "printErrors(predictionKNN)"
   ]
  },
  {
   "cell_type": "code",
   "execution_count": null,
   "id": "8487768c",
   "metadata": {},
   "outputs": [],
   "source": [
    "from sklearn.ensemble import RandomForestRegressor\n",
    "RFR = RandomForestRegressor(n_estimators = 1000, max_depth=10)"
   ]
  },
  {
   "cell_type": "code",
   "execution_count": null,
   "id": "faa0bea7",
   "metadata": {},
   "outputs": [],
   "source": [
    "RFR.fit(X,Y)"
   ]
  },
  {
   "cell_type": "code",
   "execution_count": null,
   "id": "797a88ad",
   "metadata": {},
   "outputs": [],
   "source": [
    "prediction = RFR.predict(X_test)\n",
    "index = 4\n",
    "\n",
    "plt.plot(prediction[index], label = \"prediction\")\n",
    "plt.plot(Y_test.iloc[index], label = \"real data\")\n",
    "plt.legend()"
   ]
  },
  {
   "cell_type": "code",
   "execution_count": null,
   "id": "83bd143a",
   "metadata": {},
   "outputs": [],
   "source": [
    "# GridSearchCV   - cross validation\n",
    "from sklearn.model_selection import GridSearchCV\n",
    "RFR = RandomForestRegressor()"
   ]
  },
  {
   "cell_type": "code",
   "execution_count": null,
   "id": "d67cdd16",
   "metadata": {},
   "outputs": [],
   "source": [
    "param_grid = {\n",
    "    \"n_estimators\": [50, 200],\n",
    "    \"max_depth\": [2, 5, 10]\n",
    "}"
   ]
  },
  {
   "cell_type": "code",
   "execution_count": null,
   "id": "0ff442ee",
   "metadata": {},
   "outputs": [],
   "source": [
    "GS = GridSearchCV(RFR, param_grid, scoring='neg_mean_absolute_error', cv = 3)"
   ]
  },
  {
   "cell_type": "code",
   "execution_count": null,
   "id": "27b8cbad",
   "metadata": {},
   "outputs": [],
   "source": [
    "GS.fit(X,Y)"
   ]
  },
  {
   "cell_type": "code",
   "execution_count": null,
   "id": "46387400",
   "metadata": {},
   "outputs": [],
   "source": [
    "GS.best_params_"
   ]
  },
  {
   "cell_type": "code",
   "execution_count": null,
   "id": "8b0fb9aa",
   "metadata": {},
   "outputs": [],
   "source": [
    "GS.best_score_"
   ]
  },
  {
   "cell_type": "code",
   "execution_count": null,
   "id": "1902e4e6",
   "metadata": {},
   "outputs": [],
   "source": [
    " #GS.cv_results_"
   ]
  },
  {
   "cell_type": "code",
   "execution_count": null,
   "id": "ce09f1e4",
   "metadata": {},
   "outputs": [],
   "source": [
    "BestModel = GS.best_estimator_\n",
    "prediction = BestModel.predict(X_test)\n",
    "index = 19\n",
    "\n",
    "plt.plot(prediction[index], label = \"prediction\")\n",
    "plt.plot(Y_test.iloc[index], label = \"real data\")\n",
    "plt.legend()"
   ]
  },
  {
   "cell_type": "code",
   "execution_count": null,
   "id": "8819c20f",
   "metadata": {},
   "outputs": [],
   "source": [
    "dataFrame = pd.read_csv(\"BTC_USD_10_years.csv\")\n",
    "priceAndVolume = dataFrame[[\"High\", \"Volume\"]]\n",
    "openPrice = dataFrame['Open']\n"
   ]
  },
  {
   "cell_type": "code",
   "execution_count": null,
   "id": "1eda981b",
   "metadata": {},
   "outputs": [],
   "source": [
    "from sklearn.linear_model import LinearRegression\n",
    "\n",
    "model = LinearRegression()\n",
    "X = pd.DataFrame()"
   ]
  },
  {
   "cell_type": "code",
   "execution_count": null,
   "id": "fc3eee4e",
   "metadata": {},
   "outputs": [],
   "source": [
    "#priceData.plot()\n",
    "dataFrame['Open'].plot()"
   ]
  },
  {
   "cell_type": "code",
   "execution_count": null,
   "id": "dfa77178",
   "metadata": {},
   "outputs": [],
   "source": []
  }
 ],
 "metadata": {
  "kernelspec": {
   "display_name": "Python 3 (ipykernel)",
   "language": "python",
   "name": "python3"
  },
  "language_info": {
   "codemirror_mode": {
    "name": "ipython",
    "version": 3
   },
   "file_extension": ".py",
   "mimetype": "text/x-python",
   "name": "python",
   "nbconvert_exporter": "python",
   "pygments_lexer": "ipython3",
   "version": "3.10.9"
  }
 },
 "nbformat": 4,
 "nbformat_minor": 5
}
