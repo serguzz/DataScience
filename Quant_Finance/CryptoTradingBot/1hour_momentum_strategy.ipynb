{
 "cells": [
  {
   "cell_type": "code",
   "execution_count": 1,
   "id": "aa1343dd",
   "metadata": {},
   "outputs": [],
   "source": [
    "# The strategy is straightforward:\n",
    "# if any asset grows 1% within an hour, then buy, set TP +2% and SL -2%\n",
    "\n",
    "# video tutorial: https://www.youtube.com/watch?v=XA5EI0rmYeA\n",
    "# @Algovibes youtube channel"
   ]
  },
  {
   "cell_type": "code",
   "execution_count": null,
   "id": "88446f2f",
   "metadata": {},
   "outputs": [],
   "source": [
    "# This strategy worked on BTC , but failed on ETH, LINK and ADA  !!!\n",
    "# Probably, because these altcoins are more volatile and 1% increase does not mean as much\n",
    "# as in BTC case. In altcoins case it is normal volatility and after 1% increase\n",
    "# it is usually rolling back   -2%"
   ]
  },
  {
   "cell_type": "code",
   "execution_count": 1,
   "id": "071d2de2",
   "metadata": {},
   "outputs": [],
   "source": [
    "import pandas as pd\n",
    "import numpy as np\n",
    "from binance.client import Client"
   ]
  },
  {
   "cell_type": "code",
   "execution_count": 2,
   "id": "68e972d7",
   "metadata": {},
   "outputs": [],
   "source": [
    "client = Client()"
   ]
  },
  {
   "cell_type": "code",
   "execution_count": 4,
   "id": "c874ae25",
   "metadata": {},
   "outputs": [],
   "source": [
    "def getdata(symbol, start, end = '2023-08-24'):\n",
    "    frame = pd.DataFrame(client.get_historical_klines(symbol, '1h', start, end))\n",
    "    frame = frame.iloc[:,:6]\n",
    "    frame.columns = ['Time', 'Open', 'High', 'Low', 'Close', 'Volume']\n",
    "    frame.set_index('Time', inplace=True)\n",
    "    frame.index = pd.to_datetime(frame.index, unit='ms')\n",
    "    frame = frame.astype(float)\n",
    "    return frame"
   ]
  },
  {
   "cell_type": "code",
   "execution_count": 142,
   "id": "351d6200",
   "metadata": {},
   "outputs": [],
   "source": [
    "# symbol = 'BTCUSDT'\n",
    "symbol = 'ETHUSDT'\n",
    "start = '2023-01-01'\n",
    "\n",
    "# end = '2023-01-01'\n",
    "df = getdata(symbol, start)"
   ]
  },
  {
   "cell_type": "code",
   "execution_count": 143,
   "id": "f61ba176",
   "metadata": {},
   "outputs": [
    {
     "data": {
      "text/html": [
       "<div>\n",
       "<style scoped>\n",
       "    .dataframe tbody tr th:only-of-type {\n",
       "        vertical-align: middle;\n",
       "    }\n",
       "\n",
       "    .dataframe tbody tr th {\n",
       "        vertical-align: top;\n",
       "    }\n",
       "\n",
       "    .dataframe thead th {\n",
       "        text-align: right;\n",
       "    }\n",
       "</style>\n",
       "<table border=\"1\" class=\"dataframe\">\n",
       "  <thead>\n",
       "    <tr style=\"text-align: right;\">\n",
       "      <th></th>\n",
       "      <th>Open</th>\n",
       "      <th>High</th>\n",
       "      <th>Low</th>\n",
       "      <th>Close</th>\n",
       "      <th>Volume</th>\n",
       "    </tr>\n",
       "    <tr>\n",
       "      <th>Time</th>\n",
       "      <th></th>\n",
       "      <th></th>\n",
       "      <th></th>\n",
       "      <th></th>\n",
       "      <th></th>\n",
       "    </tr>\n",
       "  </thead>\n",
       "  <tbody>\n",
       "    <tr>\n",
       "      <th>2023-01-01 00:00:00</th>\n",
       "      <td>1196.13</td>\n",
       "      <td>1196.70</td>\n",
       "      <td>1192.72</td>\n",
       "      <td>1194.09</td>\n",
       "      <td>5889.3840</td>\n",
       "    </tr>\n",
       "    <tr>\n",
       "      <th>2023-01-01 01:00:00</th>\n",
       "      <td>1194.09</td>\n",
       "      <td>1196.37</td>\n",
       "      <td>1193.84</td>\n",
       "      <td>1196.02</td>\n",
       "      <td>3157.2079</td>\n",
       "    </tr>\n",
       "    <tr>\n",
       "      <th>2023-01-01 02:00:00</th>\n",
       "      <td>1196.01</td>\n",
       "      <td>1196.74</td>\n",
       "      <td>1194.11</td>\n",
       "      <td>1195.40</td>\n",
       "      <td>3752.0476</td>\n",
       "    </tr>\n",
       "    <tr>\n",
       "      <th>2023-01-01 03:00:00</th>\n",
       "      <td>1195.41</td>\n",
       "      <td>1195.41</td>\n",
       "      <td>1191.71</td>\n",
       "      <td>1194.04</td>\n",
       "      <td>7493.4207</td>\n",
       "    </tr>\n",
       "    <tr>\n",
       "      <th>2023-01-01 04:00:00</th>\n",
       "      <td>1194.05</td>\n",
       "      <td>1194.05</td>\n",
       "      <td>1190.57</td>\n",
       "      <td>1192.92</td>\n",
       "      <td>6409.2491</td>\n",
       "    </tr>\n",
       "    <tr>\n",
       "      <th>...</th>\n",
       "      <td>...</td>\n",
       "      <td>...</td>\n",
       "      <td>...</td>\n",
       "      <td>...</td>\n",
       "      <td>...</td>\n",
       "    </tr>\n",
       "    <tr>\n",
       "      <th>2023-08-23 20:00:00</th>\n",
       "      <td>1687.20</td>\n",
       "      <td>1692.78</td>\n",
       "      <td>1679.73</td>\n",
       "      <td>1684.51</td>\n",
       "      <td>18091.6350</td>\n",
       "    </tr>\n",
       "    <tr>\n",
       "      <th>2023-08-23 21:00:00</th>\n",
       "      <td>1684.50</td>\n",
       "      <td>1685.56</td>\n",
       "      <td>1660.00</td>\n",
       "      <td>1665.26</td>\n",
       "      <td>14285.1407</td>\n",
       "    </tr>\n",
       "    <tr>\n",
       "      <th>2023-08-23 22:00:00</th>\n",
       "      <td>1665.26</td>\n",
       "      <td>1678.79</td>\n",
       "      <td>1664.22</td>\n",
       "      <td>1676.19</td>\n",
       "      <td>11651.4788</td>\n",
       "    </tr>\n",
       "    <tr>\n",
       "      <th>2023-08-23 23:00:00</th>\n",
       "      <td>1676.19</td>\n",
       "      <td>1683.07</td>\n",
       "      <td>1675.22</td>\n",
       "      <td>1679.61</td>\n",
       "      <td>8725.9659</td>\n",
       "    </tr>\n",
       "    <tr>\n",
       "      <th>2023-08-24 00:00:00</th>\n",
       "      <td>1679.61</td>\n",
       "      <td>1683.37</td>\n",
       "      <td>1679.24</td>\n",
       "      <td>1681.98</td>\n",
       "      <td>4994.1263</td>\n",
       "    </tr>\n",
       "  </tbody>\n",
       "</table>\n",
       "<p>5640 rows × 5 columns</p>\n",
       "</div>"
      ],
      "text/plain": [
       "                        Open     High      Low    Close      Volume\n",
       "Time                                                               \n",
       "2023-01-01 00:00:00  1196.13  1196.70  1192.72  1194.09   5889.3840\n",
       "2023-01-01 01:00:00  1194.09  1196.37  1193.84  1196.02   3157.2079\n",
       "2023-01-01 02:00:00  1196.01  1196.74  1194.11  1195.40   3752.0476\n",
       "2023-01-01 03:00:00  1195.41  1195.41  1191.71  1194.04   7493.4207\n",
       "2023-01-01 04:00:00  1194.05  1194.05  1190.57  1192.92   6409.2491\n",
       "...                      ...      ...      ...      ...         ...\n",
       "2023-08-23 20:00:00  1687.20  1692.78  1679.73  1684.51  18091.6350\n",
       "2023-08-23 21:00:00  1684.50  1685.56  1660.00  1665.26  14285.1407\n",
       "2023-08-23 22:00:00  1665.26  1678.79  1664.22  1676.19  11651.4788\n",
       "2023-08-23 23:00:00  1676.19  1683.07  1675.22  1679.61   8725.9659\n",
       "2023-08-24 00:00:00  1679.61  1683.37  1679.24  1681.98   4994.1263\n",
       "\n",
       "[5640 rows x 5 columns]"
      ]
     },
     "execution_count": 143,
     "metadata": {},
     "output_type": "execute_result"
    }
   ],
   "source": [
    "df"
   ]
  },
  {
   "cell_type": "code",
   "execution_count": 144,
   "id": "ab217ed6",
   "metadata": {},
   "outputs": [],
   "source": [
    "# Calculate hourly return on close prices\n",
    "df['ret'] = df.Close.pct_change()"
   ]
  },
  {
   "cell_type": "code",
   "execution_count": 145,
   "id": "65bc04e9",
   "metadata": {},
   "outputs": [],
   "source": [
    "# df"
   ]
  },
  {
   "cell_type": "code",
   "execution_count": 129,
   "id": "d34b45fb",
   "metadata": {},
   "outputs": [],
   "source": [
    "# Optional step: analyzing percentage return\n",
    "# df.ret.plot(kind='hist', bins=100)"
   ]
  },
  {
   "cell_type": "code",
   "execution_count": 146,
   "id": "8586e77b",
   "metadata": {},
   "outputs": [],
   "source": [
    "df['price'] = df.Open.shift(-1)   # we can buy only at the Open price of the next candle"
   ]
  },
  {
   "cell_type": "code",
   "execution_count": 147,
   "id": "8d23a61d",
   "metadata": {},
   "outputs": [],
   "source": [
    "# df"
   ]
  },
  {
   "cell_type": "code",
   "execution_count": 148,
   "id": "10a92540",
   "metadata": {},
   "outputs": [],
   "source": [
    "# the strategy itself, looping through the above dataframe\n",
    "\n",
    "take_profit = 1.02\n",
    "stop_loss = 0.98\n",
    "\n",
    "trend_signal = 0.01  # buy if 1% growth\n",
    "\n",
    "in_position = False\n",
    "profits = []\n",
    "\n",
    "for index, row in df.iterrows():\n",
    "    if not in_position:\n",
    "        if row.ret > trend_signal:\n",
    "            buyprice = row.price\n",
    "            bought_at = index\n",
    "            tp = buyprice * take_profit\n",
    "            sl = buyprice * stop_loss\n",
    "            in_position = True\n",
    "    if in_position and index > bought_at:\n",
    "        if row.High > tp:\n",
    "            profit = (take_profit - 1) #- 0.0015  # subtracting Binance comission 0.15%\n",
    "            if symbol != 'BTCUSDT':\n",
    "                profit -= 0.0015\n",
    "            profits.append(profit)\n",
    "            in_position = False\n",
    "        if row.Low < sl and index > bought_at:\n",
    "            profit = (stop_loss - 1) # - 0.0015\n",
    "            if symbol != 'BTCUSDT':\n",
    "                profit -= 0.0015\n",
    "            profits.append(profit)\n",
    "            in_position = False\n",
    "            "
   ]
  },
  {
   "cell_type": "code",
   "execution_count": 149,
   "id": "00f83ae0",
   "metadata": {},
   "outputs": [
    {
     "data": {
      "text/plain": [
       "False    47\n",
       "True     46\n",
       "Name: count, dtype: int64"
      ]
     },
     "execution_count": 149,
     "metadata": {},
     "output_type": "execute_result"
    }
   ],
   "source": [
    "pd.Series(profits)\n",
    "(pd.Series(profits) > 0).value_counts()"
   ]
  },
  {
   "cell_type": "code",
   "execution_count": 150,
   "id": "dcf6480a",
   "metadata": {},
   "outputs": [
    {
     "data": {
      "text/plain": [
       "False    47\n",
       "True     46\n",
       "Name: count, dtype: int64"
      ]
     },
     "execution_count": 150,
     "metadata": {},
     "output_type": "execute_result"
    }
   ],
   "source": [
    "(pd.Series(profits) > 0).value_counts()"
   ]
  },
  {
   "cell_type": "code",
   "execution_count": 151,
   "id": "23a7d9e9",
   "metadata": {},
   "outputs": [
    {
     "data": {
      "text/plain": [
       "0.8366937852795169"
      ]
     },
     "execution_count": 151,
     "metadata": {},
     "output_type": "execute_result"
    }
   ],
   "source": [
    "(pd.Series(profits) + 1).prod()"
   ]
  },
  {
   "cell_type": "code",
   "execution_count": 152,
   "id": "4a703ffd",
   "metadata": {},
   "outputs": [
    {
     "data": {
      "text/plain": [
       "<Axes: >"
      ]
     },
     "execution_count": 152,
     "metadata": {},
     "output_type": "execute_result"
    },
    {
     "data": {
      "image/png": "[encoded data removed]",
      "text/plain": [
       "<Figure size 640x480 with 1 Axes>"
      ]
     },
     "metadata": {},
     "output_type": "display_data"
    }
   ],
   "source": [
    "(pd.Series(profits) + 1).cumprod().plot()"
   ]
  },
  {
   "cell_type": "code",
   "execution_count": null,
   "id": "09712af0",
   "metadata": {},
   "outputs": [],
   "source": []
  }
 ],
 "metadata": {
  "kernelspec": {
   "display_name": "Python 3 (ipykernel)",
   "language": "python",
   "name": "python3"
  },
  "language_info": {
   "codemirror_mode": {
    "name": "ipython",
    "version": 3
   },
   "file_extension": ".py",
   "mimetype": "text/x-python",
   "name": "python",
   "nbconvert_exporter": "python",
   "pygments_lexer": "ipython3",
   "version": "3.10.4"
  }
 },
 "nbformat": 4,
 "nbformat_minor": 5
}
