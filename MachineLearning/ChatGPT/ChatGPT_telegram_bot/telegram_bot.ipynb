{
 "cells": [
  {
   "cell_type": "code",
   "execution_count": 1,
   "id": "4f7814fe",
   "metadata": {},
   "outputs": [],
   "source": [
    "# !python -m pip install --upgrade revChatGPT\n",
    "# !pip install pyTelegramBotAPI"
   ]
  },
  {
   "cell_type": "code",
   "execution_count": 2,
   "id": "9fa40141",
   "metadata": {},
   "outputs": [],
   "source": [
    "from revChatGPT.V1 import Chatbot # import the lib\n",
    "from tokens import ChatGPT_old, ChatGPT_new\n",
    "from tokens import telegram_bot_token\n",
    "import telebot\n",
    "\n",
    "ChatGPT_token = ChatGPT_new\n",
    "\n",
    "chatbot = Chatbot(config={\n",
    "    \"access_token\":ChatGPT_token\n",
    "}) # initialize the chat bot\n",
    "\n",
    "bot = telebot.TeleBot(telegram_bot_token)"
   ]
  },
  {
   "cell_type": "code",
   "execution_count": 3,
   "id": "eb271fa5",
   "metadata": {},
   "outputs": [],
   "source": [
    "@bot.message_handler(func=lambda msg: True)\n",
    "def echo_all(message):\n",
    "\n",
    "    question = message.text\n",
    "    for data in chatbot.ask(question):\n",
    "        response = data[\"message\"]\n",
    "    bot.reply_to(message, response)"
   ]
  },
  {
   "cell_type": "code",
   "execution_count": 6,
   "id": "4ccdd7e3",
   "metadata": {},
   "outputs": [],
   "source": [
    "bot.set_webhook()\n",
    "bot.polling(none_stop=True, interval=0) #обязательная для работы бота часть"
   ]
  },
  {
   "cell_type": "code",
   "execution_count": null,
   "id": "0dec8326",
   "metadata": {},
   "outputs": [],
   "source": [
    "# -----------------\n",
    "# -ChatGPT testing -\n",
    "# -----------------\n",
    "question = ''\n",
    "\n",
    "while (question != 'exit'):\n",
    "    question = input(\"Your question: \") # input the question\n",
    "\n",
    "    for data in chatbot.ask(question):\n",
    "        response = data[\"message\"]\n",
    "\n",
    "    print(f\"Answer: {response}\")\n"
   ]
  }
 ],
 "metadata": {
  "kernelspec": {
   "display_name": "Python 3 (ipykernel)",
   "language": "python",
   "name": "python3"
  },
  "language_info": {
   "codemirror_mode": {
    "name": "ipython",
    "version": 3
   },
   "file_extension": ".py",
   "mimetype": "text/x-python",
   "name": "python",
   "nbconvert_exporter": "python",
   "pygments_lexer": "ipython3",
   "version": "3.10.4"
  }
 },
 "nbformat": 4,
 "nbformat_minor": 5
}
